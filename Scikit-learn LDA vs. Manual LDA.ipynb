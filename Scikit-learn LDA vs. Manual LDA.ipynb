{
 "cells": [
  {
   "cell_type": "code",
   "execution_count": 1,
   "metadata": {},
   "outputs": [],
   "source": [
    "# Importing packages\n",
    "\n",
    "import pandas as pd\n",
    "import numpy as np\n",
    "import math\n",
    "from matplotlib import pyplot as plt\n",
    "from sklearn.discriminant_analysis import LinearDiscriminantAnalysis as lda"
   ]
  },
  {
   "cell_type": "code",
   "execution_count": 2,
   "metadata": {},
   "outputs": [
    {
     "data": {
      "text/html": [
       "<div>\n",
       "<style scoped>\n",
       "    .dataframe tbody tr th:only-of-type {\n",
       "        vertical-align: middle;\n",
       "    }\n",
       "\n",
       "    .dataframe tbody tr th {\n",
       "        vertical-align: top;\n",
       "    }\n",
       "\n",
       "    .dataframe thead th {\n",
       "        text-align: right;\n",
       "    }\n",
       "</style>\n",
       "<table border=\"1\" class=\"dataframe\">\n",
       "  <thead>\n",
       "    <tr style=\"text-align: right;\">\n",
       "      <th></th>\n",
       "      <th>Sepal Length</th>\n",
       "      <th>Sepal Width</th>\n",
       "      <th>Petal Length</th>\n",
       "      <th>Petal Width</th>\n",
       "      <th>Class Label</th>\n",
       "    </tr>\n",
       "  </thead>\n",
       "  <tbody>\n",
       "    <tr>\n",
       "      <th>0</th>\n",
       "      <td>5.1</td>\n",
       "      <td>3.5</td>\n",
       "      <td>1.4</td>\n",
       "      <td>0.2</td>\n",
       "      <td>Iris-setosa</td>\n",
       "    </tr>\n",
       "    <tr>\n",
       "      <th>1</th>\n",
       "      <td>4.9</td>\n",
       "      <td>3.0</td>\n",
       "      <td>1.4</td>\n",
       "      <td>0.2</td>\n",
       "      <td>Iris-setosa</td>\n",
       "    </tr>\n",
       "    <tr>\n",
       "      <th>2</th>\n",
       "      <td>4.7</td>\n",
       "      <td>3.2</td>\n",
       "      <td>1.3</td>\n",
       "      <td>0.2</td>\n",
       "      <td>Iris-setosa</td>\n",
       "    </tr>\n",
       "    <tr>\n",
       "      <th>3</th>\n",
       "      <td>4.6</td>\n",
       "      <td>3.1</td>\n",
       "      <td>1.5</td>\n",
       "      <td>0.2</td>\n",
       "      <td>Iris-setosa</td>\n",
       "    </tr>\n",
       "    <tr>\n",
       "      <th>4</th>\n",
       "      <td>5.0</td>\n",
       "      <td>3.6</td>\n",
       "      <td>1.4</td>\n",
       "      <td>0.2</td>\n",
       "      <td>Iris-setosa</td>\n",
       "    </tr>\n",
       "  </tbody>\n",
       "</table>\n",
       "</div>"
      ],
      "text/plain": [
       "   Sepal Length  Sepal Width  Petal Length  Petal Width  Class Label\n",
       "0           5.1          3.5           1.4          0.2  Iris-setosa\n",
       "1           4.9          3.0           1.4          0.2  Iris-setosa\n",
       "2           4.7          3.2           1.3          0.2  Iris-setosa\n",
       "3           4.6          3.1           1.5          0.2  Iris-setosa\n",
       "4           5.0          3.6           1.4          0.2  Iris-setosa"
      ]
     },
     "execution_count": 2,
     "metadata": {},
     "output_type": "execute_result"
    }
   ],
   "source": [
    "# Importing and formatting iris data\n",
    "\n",
    "names = ['Sepal Length', 'Sepal Width', 'Petal Length', 'Petal Width', 'Class Label']\n",
    "\n",
    "df = pd.io.parsers.read_csv(\n",
    "    filepath_or_buffer='https://archive.ics.uci.edu/ml/machine-learning-databases/iris/iris.data',\n",
    "    header=None,\n",
    "    sep=',',\n",
    "    )\n",
    "\n",
    "df.columns = names\n",
    "\n",
    "df.head()"
   ]
  },
  {
   "cell_type": "code",
   "execution_count": 3,
   "metadata": {},
   "outputs": [],
   "source": [
    "# Separate features and labels\n",
    "\n",
    "features = df.drop('Class Label', axis=1)\n",
    "classlabels = df['Class Label']"
   ]
  },
  {
   "cell_type": "code",
   "execution_count": 4,
   "metadata": {},
   "outputs": [],
   "source": [
    "# Fit LDA from scikit-learn\n",
    "\n",
    "sklearn_lda = lda(n_components=2)\n",
    "sklearn_lda_features = sklearn_lda.fit_transform(features, classlabels)"
   ]
  },
  {
   "cell_type": "code",
   "execution_count": 5,
   "metadata": {},
   "outputs": [],
   "source": [
    "# Plotting function\n",
    "\n",
    "def plot_lda(two_lda_dimensions, label_matrix, title):\n",
    "    \n",
    "    # Make scatter plot, with labels and colors\n",
    "    for label,marker,color in zip(\n",
    "        ('Iris-setosa', 'Iris-versicolor', 'Iris-virginica'),('^', 's', 'o'),('orange', 'black', 'grey')):\n",
    "\n",
    "        plt.scatter(x=two_lda_dimensions[:,0][label_matrix == label],\n",
    "                    y=two_lda_dimensions[:,1][label_matrix == label],\n",
    "                    marker=marker,\n",
    "                    color=color,\n",
    "                    label=label)\n",
    "    \n",
    "    # Label axes\n",
    "    plt.xlabel('Linear Discriminant 1')\n",
    "    plt.ylabel('Linear Discriminant 2')\n",
    "    \n",
    "    # Add plot legend\n",
    "    leg = plt.legend(loc='best', fancybox=True)\n",
    "    \n",
    "    # Add plot title\n",
    "    plt.title(title)"
   ]
  },
  {
   "cell_type": "code",
   "execution_count": 6,
   "metadata": {},
   "outputs": [
    {
     "data": {
      "image/png": "[encoded data removed]",
      "text/plain": [
       "<Figure size 432x288 with 1 Axes>"
      ]
     },
     "metadata": {},
     "output_type": "display_data"
    }
   ],
   "source": [
    "# Plot first two LDA dimensions from sklearn\n",
    "\n",
    "plot_lda(two_lda_dimensions=sklearn_lda_features,\n",
    "                 label_matrix=classlabels,\n",
    "                 title='LDA via scikit-learn')\n",
    "\n",
    "plt.show()"
   ]
  },
  {
   "cell_type": "code",
   "execution_count": 7,
   "metadata": {},
   "outputs": [],
   "source": [
    "# Decision boundary plotting function\n",
    "\n",
    "def plot_lda_decision_boundaries(two_lda_dimensions, label_matrix):\n",
    "    \n",
    "    # Create mesh_matrix, a mesh of points in space of first two linear discriminants\n",
    "    ldone_min, ldone_max = two_lda_dimensions[:,0].min() - 1, two_lda_dimensions[:,0].max() + 1\n",
    "    ldtwo_min, ldtwo_max = two_lda_dimensions[:,1].min() - 1, two_lda_dimensions[:,1].max() + 1\n",
    "\n",
    "    ldoneone, ldtwotwo = np.meshgrid(np.linspace(ldone_min, ldone_max, 500),\n",
    "                                 np.linspace(ldtwo_min, ldtwo_max, 500))\n",
    "\n",
    "    mesh_matrix = np.c_[ldoneone.ravel(), ldtwotwo.ravel()]\n",
    "    \n",
    "    # Instantiate LDA model and fit LDA model on two_lda_dimensions\n",
    "    lda_model = lda(n_components=2)\n",
    "    lda_model.fit(two_lda_dimensions, label_matrix)\n",
    "                                                                                   \n",
    "    # Use LDA model to make categorical predictions on mesh_matrix\n",
    "    mesh_predictions = lda_model.predict(mesh_matrix)\n",
    "    \n",
    "    # Map categorical predictions into numerical values for contour plotting\n",
    "    speciesmap = {'Iris-setosa':0, 'Iris-versicolor':1, 'Iris-virginica':2}\n",
    "    f = lambda x: speciesmap[x]\n",
    "    fv = np.vectorize(f)\n",
    "    Z = fv(mesh_predictions).reshape((len(ldoneone), len(ldtwotwo)))\n",
    "    \n",
    "    # Make contour plot\n",
    "    plt.contourf(ldoneone, ldtwotwo, Z, levels=[-0.5,0.5,1.5,2.5], colors=('orange', 'black', 'grey'), alpha=0.4)"
   ]
  },
  {
   "cell_type": "code",
   "execution_count": 8,
   "metadata": {},
   "outputs": [
    {
     "data": {
      "image/png": "[encoded data removed]",
      "text/plain": [
       "<Figure size 432x288 with 1 Axes>"
      ]
     },
     "metadata": {},
     "output_type": "display_data"
    }
   ],
   "source": [
    "# Plot first two LDA dimensions along with decision boundaries\n",
    "\n",
    "plot_lda(two_lda_dimensions=sklearn_lda_features,\n",
    "        label_matrix=classlabels,\n",
    "        title='Scikit-learn LDA With Decision Boundaries')\n",
    "\n",
    "plot_lda_decision_boundaries(two_lda_dimensions=sklearn_lda_features,\n",
    "                             label_matrix=classlabels)\n",
    "\n",
    "plt.show()"
   ]
  },
  {
   "cell_type": "code",
   "execution_count": 9,
   "metadata": {},
   "outputs": [
    {
     "name": "stdout",
     "output_type": "stream",
     "text": [
      "[[5.006 3.418 1.464 0.244]\n",
      " [5.936 2.77  4.26  1.326]\n",
      " [6.588 2.974 5.552 2.026]]\n",
      "[5.84333333 3.054      3.75866667 1.19866667]\n"
     ]
    }
   ],
   "source": [
    "# Implement LDA manually, Cell 1\n",
    "\n",
    "# Compute the matrix of means of all features for each class label\n",
    "\n",
    "species = ['Iris-setosa', 'Iris-versicolor', 'Iris-virginica']\n",
    "\n",
    "mean_vector_matrix = [df.loc[df['Class Label'] == index].mean(numeric_only=True).values for index in species]\n",
    "mean_vector_matrix = np.asarray(mean_vector_matrix).reshape(len(species), features.shape[1])\n",
    "\n",
    "print mean_vector_matrix\n",
    "\n",
    "# Also, compute global mean vector\n",
    "\n",
    "global_mean_vector = df.mean(numeric_only=True).values\n",
    "\n",
    "print global_mean_vector"
   ]
  },
  {
   "cell_type": "code",
   "execution_count": 10,
   "metadata": {},
   "outputs": [
    {
     "data": {
      "text/html": [
       "<div>\n",
       "<style scoped>\n",
       "    .dataframe tbody tr th:only-of-type {\n",
       "        vertical-align: middle;\n",
       "    }\n",
       "\n",
       "    .dataframe tbody tr th {\n",
       "        vertical-align: top;\n",
       "    }\n",
       "\n",
       "    .dataframe thead th {\n",
       "        text-align: right;\n",
       "    }\n",
       "</style>\n",
       "<table border=\"1\" class=\"dataframe\">\n",
       "  <thead>\n",
       "    <tr style=\"text-align: right;\">\n",
       "      <th></th>\n",
       "      <th>Sepal Length</th>\n",
       "      <th>Sepal Width</th>\n",
       "      <th>Petal Length</th>\n",
       "      <th>Petal Width</th>\n",
       "    </tr>\n",
       "  </thead>\n",
       "  <tbody>\n",
       "    <tr>\n",
       "      <th>0</th>\n",
       "      <td>0.094</td>\n",
       "      <td>0.082</td>\n",
       "      <td>-0.064</td>\n",
       "      <td>-0.044</td>\n",
       "    </tr>\n",
       "    <tr>\n",
       "      <th>1</th>\n",
       "      <td>-0.106</td>\n",
       "      <td>-0.418</td>\n",
       "      <td>-0.064</td>\n",
       "      <td>-0.044</td>\n",
       "    </tr>\n",
       "    <tr>\n",
       "      <th>2</th>\n",
       "      <td>-0.306</td>\n",
       "      <td>-0.218</td>\n",
       "      <td>-0.164</td>\n",
       "      <td>-0.044</td>\n",
       "    </tr>\n",
       "    <tr>\n",
       "      <th>3</th>\n",
       "      <td>-0.406</td>\n",
       "      <td>-0.318</td>\n",
       "      <td>0.036</td>\n",
       "      <td>-0.044</td>\n",
       "    </tr>\n",
       "    <tr>\n",
       "      <th>4</th>\n",
       "      <td>-0.006</td>\n",
       "      <td>0.182</td>\n",
       "      <td>-0.064</td>\n",
       "      <td>-0.044</td>\n",
       "    </tr>\n",
       "  </tbody>\n",
       "</table>\n",
       "</div>"
      ],
      "text/plain": [
       "   Sepal Length  Sepal Width  Petal Length  Petal Width\n",
       "0         0.094        0.082        -0.064       -0.044\n",
       "1        -0.106       -0.418        -0.064       -0.044\n",
       "2        -0.306       -0.218        -0.164       -0.044\n",
       "3        -0.406       -0.318         0.036       -0.044\n",
       "4        -0.006        0.182        -0.064       -0.044"
      ]
     },
     "execution_count": 10,
     "metadata": {},
     "output_type": "execute_result"
    }
   ],
   "source": [
    "# Implement LDA manually, Cell 2\n",
    "\n",
    "# Subtract within-class mean vector from each species instance to get mean corrected matrices\n",
    "\n",
    "mean_corrected_setosa = df[df['Class Label'] == 'Iris-setosa'].drop('Class Label', axis=1) - mean_vector_matrix[0]\n",
    "mean_corrected_versicolor = df[df['Class Label'] == 'Iris-versicolor'].drop('Class Label', axis=1) - mean_vector_matrix[1]\n",
    "mean_corrected_virginica = df[df['Class Label'] == 'Iris-virginica'].drop('Class Label', axis=1) - mean_vector_matrix[2]\n",
    "\n",
    "mean_corrected_setosa.head()"
   ]
  },
  {
   "cell_type": "code",
   "execution_count": 11,
   "metadata": {},
   "outputs": [
    {
     "name": "stdout",
     "output_type": "stream",
     "text": [
      "[[38.9562 13.683  24.614   5.6556]\n",
      " [13.683  17.035   8.12    4.9132]\n",
      " [24.614   8.12   27.22    6.2536]\n",
      " [ 5.6556  4.9132  6.2536  6.1756]]\n"
     ]
    }
   ],
   "source": [
    "# Implement LDA manually, Cell 3\n",
    "\n",
    "# Compute within-class scatter matrix, which is the sum of covariance matrices for each species\n",
    "# Within-class scatter matrix is num_features x num_features dimensional, in this case 4x4\n",
    "\n",
    "cov_setosa = np.matmul(mean_corrected_setosa.values.transpose(), mean_corrected_setosa.values)*(1.0/(len(mean_corrected_setosa) - 1))\n",
    "cov_versicolor = np.matmul(mean_corrected_versicolor.values.transpose(), mean_corrected_versicolor.values)*(1.0/(len(mean_corrected_versicolor) - 1))\n",
    "cov_virginica = np.matmul(mean_corrected_virginica.values.transpose(), mean_corrected_virginica.values)*(1.0/(len(mean_corrected_virginica) - 1))\n",
    "\n",
    "within_class_scatter = (len(mean_corrected_setosa) - 1)*cov_setosa + (len(mean_corrected_versicolor) - 1)*cov_versicolor + (len(mean_corrected_virginica) - 1)*cov_virginica\n",
    "\n",
    "print within_class_scatter"
   ]
  },
  {
   "cell_type": "code",
   "execution_count": 12,
   "metadata": {},
   "outputs": [
    {
     "name": "stdout",
     "output_type": "stream",
     "text": [
      "[[ 63.21213333 -19.534      165.16466667  71.36306667]\n",
      " [-19.534       10.9776     -56.0552     -22.4924    ]\n",
      " [165.16466667 -56.0552     436.64373333 186.90813333]\n",
      " [ 71.36306667 -22.4924     186.90813333  80.60413333]]\n"
     ]
    }
   ],
   "source": [
    "# Implement LDA manually, Cell 4\n",
    "\n",
    "# Compute between-class scatter matrix, which is the sum over classes of covariances of mean_vector_matrix corrected for global_mean\n",
    "\n",
    "cov_mean_setosa = np.matmul(np.array([mean_vector_matrix[0] - global_mean_vector]).transpose(), np.array([mean_vector_matrix[0] - global_mean_vector]))*len(mean_corrected_setosa)\n",
    "cov_mean_versicolor = np.matmul(np.array([mean_vector_matrix[1] - global_mean_vector]).transpose(), np.array([mean_vector_matrix[1] - global_mean_vector]))*len(mean_corrected_versicolor)\n",
    "cov_mean_virginica = np.matmul(np.array([mean_vector_matrix[2] - global_mean_vector]).transpose(), np.array([mean_vector_matrix[2] - global_mean_vector]))*len(mean_corrected_virginica)\n",
    "\n",
    "between_class_scatter = cov_mean_setosa + cov_mean_versicolor + cov_mean_virginica\n",
    "\n",
    "print between_class_scatter"
   ]
  },
  {
   "cell_type": "code",
   "execution_count": 13,
   "metadata": {},
   "outputs": [
    {
     "name": "stdout",
     "output_type": "stream",
     "text": [
      "\n",
      "Eigenvector 1: \n",
      "[[ 0.20490976]\n",
      " [ 0.38714331]\n",
      " [-0.54648218]\n",
      " [-0.71378517]]\n",
      "Eigenvalue 1: 3.23e+01\n",
      "\n",
      "Eigenvector 2: \n",
      "[[-0.00898234]\n",
      " [-0.58899857]\n",
      " [ 0.25428655]\n",
      " [-0.76703217]]\n",
      "Eigenvalue 2: 2.78e-01\n",
      "\n",
      "Eigenvector 3: \n",
      "[[-0.40368618]\n",
      " [-0.16629035]\n",
      " [-0.2398197 ]\n",
      " [ 0.86710524]]\n",
      "Eigenvalue 3: -4.91e-15\n",
      "\n",
      "Eigenvector 4: \n",
      "[[ 0.35279921]\n",
      " [-0.4263096 ]\n",
      " [-0.47966879]\n",
      " [ 0.68096307]]\n",
      "Eigenvalue 4: 2.07e-15\n"
     ]
    }
   ],
   "source": [
    "# Implement LDA manually, Cell 5\n",
    "\n",
    "# Maximize ratio of between-class to within-class scatter matrices by solving appropriate eigenvalue problem\n",
    "\n",
    "eig_vals, eig_vecs = np.linalg.eig(np.matmul(np.linalg.inv(within_class_scatter), between_class_scatter))\n",
    "\n",
    "for i in range(len(eig_vals)):\n",
    "    eigvec_sc = eig_vecs[:,i].reshape(4,1)   \n",
    "    print('\\nEigenvector {}: \\n{}'.format(i+1, eigvec_sc.real))\n",
    "    print('Eigenvalue {:}: {:.2e}'.format(i+1, eig_vals[i].real))\n",
    "    \n",
    "# Sort eigenvalue, eigenvector pairs by decreasing eigenvalue\n",
    "eig_pairs = [(np.abs(eig_vals[i]), eig_vecs[:,i]) for i in range(len(eig_vals))]\n",
    "eig_pairs = sorted(eig_pairs, key=lambda k: k[0], reverse=True)"
   ]
  },
  {
   "cell_type": "code",
   "execution_count": 14,
   "metadata": {},
   "outputs": [
    {
     "name": "stdout",
     "output_type": "stream",
     "text": [
      "[[ 0.20490976 -0.00898234]\n",
      " [ 0.38714331 -0.58899857]\n",
      " [-0.54648218  0.25428655]\n",
      " [-0.71378517 -0.76703217]]\n"
     ]
    }
   ],
   "source": [
    "# Implement LDA manually, Cell 6\n",
    "\n",
    "# Choose first two linear discriminant dimensions and construct corresponding eigenvector matrix\n",
    "\n",
    "n_dimensions = 2\n",
    "\n",
    "eigen_matrix = np.array([eig_pairs[index][1] for index in range(n_dimensions)]).reshape(n_dimensions, len(eig_pairs[0][1])).transpose()\n",
    "\n",
    "print eigen_matrix"
   ]
  },
  {
   "cell_type": "code",
   "execution_count": 15,
   "metadata": {},
   "outputs": [
    {
     "data": {
      "image/png": "[encoded data removed]",
      "text/plain": [
       "<Figure size 432x288 with 1 Axes>"
      ]
     },
     "metadata": {},
     "output_type": "display_data"
    }
   ],
   "source": [
    "# Implement LDA manually, Cell 7\n",
    "\n",
    "# Project features onto linear discriminant dimensions\n",
    "# Different scales for linear discriminant dimensions because manual implementation is unstandardized\n",
    "\n",
    "manual_lda_features = np.matmul(features, eigen_matrix)\n",
    "manual_lda_features[:,1] *= -1.0 # eigenvalue problem invariant under constant scaling; done to match with sklearn implementation above\n",
    "\n",
    "plot_lda(two_lda_dimensions=manual_lda_features,\n",
    "                 label_matrix=classlabels,\n",
    "                 title='Manual LDA \\n (Looks same as sklearn LDA except for dimension scaling)')\n",
    "\n",
    "plt.show()"
   ]
  },
  {
   "cell_type": "code",
   "execution_count": null,
   "metadata": {},
   "outputs": [],
   "source": []
  }
 ],
 "metadata": {
  "kernelspec": {
   "display_name": "Python 2",
   "language": "python",
   "name": "python2"
  },
  "language_info": {
   "codemirror_mode": {
    "name": "ipython",
    "version": 2
   },
   "file_extension": ".py",
   "mimetype": "text/x-python",
   "name": "python",
   "nbconvert_exporter": "python",
   "pygments_lexer": "ipython2",
   "version": "2.7.15"
  }
 },
 "nbformat": 4,
 "nbformat_minor": 2
}
